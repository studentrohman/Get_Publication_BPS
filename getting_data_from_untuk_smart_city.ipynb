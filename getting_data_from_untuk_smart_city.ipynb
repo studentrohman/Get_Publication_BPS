{
  "nbformat": 4,
  "nbformat_minor": 0,
  "metadata": {
    "colab": {
      "name": "getting data from untuk smart city  ",
      "provenance": []
    },
    "kernelspec": {
      "name": "python3",
      "display_name": "Python 3"
    }
  },
  "cells": [
    {
      "cell_type": "markdown",
      "metadata": {
        "id": "y6N3a6b_w3kV",
        "colab_type": "text"
      },
      "source": [
        "**Mendownload sesajen sebelum *scraping***"
      ]
    },
    {
      "cell_type": "code",
      "metadata": {
        "id": "vvLRZPZ6XqAx",
        "colab_type": "code",
        "outputId": "75faa1b8-2c09-45df-a8ab-d86393e98bd8",
        "colab": {
          "base_uri": "https://localhost:8080/",
          "height": 468
        }
      },
      "source": [
        "!pip install PyPDF2\n",
        "!pip install tika\n",
        "import PyPDF2\n",
        "import re\n",
        "import pandas as pd\n",
        "import os\n",
        "from decimal import Decimal\n",
        "import PyPDF2\n",
        "import re\n",
        "import pandas as pd\n",
        "import os\n",
        "from decimal import Decimal\n",
        "from tika import parser\n",
        "%cd /content/drive/My Drive/Proyek_smart_city/3_Data"
      ],
      "execution_count": 0,
      "outputs": [
        {
          "output_type": "stream",
          "text": [
            "Collecting PyPDF2\n",
            "\u001b[?25l  Downloading https://files.pythonhosted.org/packages/b4/01/68fcc0d43daf4c6bdbc6b33cc3f77bda531c86b174cac56ef0ffdb96faab/PyPDF2-1.26.0.tar.gz (77kB)\n",
            "\r\u001b[K     |████▎                           | 10kB 19.8MB/s eta 0:00:01\r\u001b[K     |████████▌                       | 20kB 3.0MB/s eta 0:00:01\r\u001b[K     |████████████▊                   | 30kB 4.3MB/s eta 0:00:01\r\u001b[K     |█████████████████               | 40kB 2.9MB/s eta 0:00:01\r\u001b[K     |█████████████████████▏          | 51kB 3.5MB/s eta 0:00:01\r\u001b[K     |█████████████████████████▍      | 61kB 4.2MB/s eta 0:00:01\r\u001b[K     |█████████████████████████████▋  | 71kB 4.8MB/s eta 0:00:01\r\u001b[K     |████████████████████████████████| 81kB 3.8MB/s \n",
            "\u001b[?25hBuilding wheels for collected packages: PyPDF2\n",
            "  Building wheel for PyPDF2 (setup.py) ... \u001b[?25l\u001b[?25hdone\n",
            "  Created wheel for PyPDF2: filename=PyPDF2-1.26.0-cp36-none-any.whl size=61086 sha256=d597d902f3f743191a96dc81aeacc48a02fb71436a34c5991c32370d87ef05d3\n",
            "  Stored in directory: /root/.cache/pip/wheels/53/84/19/35bc977c8bf5f0c23a8a011aa958acd4da4bbd7a229315c1b7\n",
            "Successfully built PyPDF2\n",
            "Installing collected packages: PyPDF2\n",
            "Successfully installed PyPDF2-1.26.0\n",
            "Collecting tika\n",
            "  Downloading https://files.pythonhosted.org/packages/96/07/244fbb9c74c0de8a3745cc9f3f496077a29f6418c7cbd90d68fd799574cb/tika-1.24.tar.gz\n",
            "Requirement already satisfied: setuptools in /usr/local/lib/python3.6/dist-packages (from tika) (46.1.3)\n",
            "Requirement already satisfied: requests in /usr/local/lib/python3.6/dist-packages (from tika) (2.21.0)\n",
            "Requirement already satisfied: urllib3<1.25,>=1.21.1 in /usr/local/lib/python3.6/dist-packages (from requests->tika) (1.24.3)\n",
            "Requirement already satisfied: certifi>=2017.4.17 in /usr/local/lib/python3.6/dist-packages (from requests->tika) (2020.4.5.1)\n",
            "Requirement already satisfied: idna<2.9,>=2.5 in /usr/local/lib/python3.6/dist-packages (from requests->tika) (2.8)\n",
            "Requirement already satisfied: chardet<3.1.0,>=3.0.2 in /usr/local/lib/python3.6/dist-packages (from requests->tika) (3.0.4)\n",
            "Building wheels for collected packages: tika\n",
            "  Building wheel for tika (setup.py) ... \u001b[?25l\u001b[?25hdone\n",
            "  Created wheel for tika: filename=tika-1.24-cp36-none-any.whl size=32885 sha256=fa7ae3a0c5827e8afaad6cde0066ec20a58e2f480e7ad4530a3bcfae5a734189\n",
            "  Stored in directory: /root/.cache/pip/wheels/73/9c/f5/0b1b738442fc2a2862bef95b908b374f8e80215550fb2a8975\n",
            "Successfully built tika\n",
            "Installing collected packages: tika\n",
            "Successfully installed tika-1.24\n",
            "/content/drive/My Drive/Proyek_smart_city/3_Data\n"
          ],
          "name": "stdout"
        }
      ]
    },
    {
      "cell_type": "code",
      "metadata": {
        "id": "gWxbn3aeBSL3",
        "colab_type": "code",
        "outputId": "67c5de96-0fa7-4307-8cc3-b9a3ffd4cb53",
        "colab": {
          "base_uri": "https://localhost:8080/",
          "height": 141
        }
      },
      "source": [
        "from google.colab import drive\n",
        "drive.mount('/gdrive')\n",
        "%cd /gdrive"
      ],
      "execution_count": 0,
      "outputs": [
        {
          "output_type": "stream",
          "text": [
            "Go to this URL in a browser: https://accounts.google.com/o/oauth2/auth?client_id=947318989803-6bn6qk8qdgf4n4g3pfee6491hc0brc4i.apps.googleusercontent.com&redirect_uri=urn%3aietf%3awg%3aoauth%3a2.0%3aoob&response_type=code&scope=email%20https%3a%2f%2fwww.googleapis.com%2fauth%2fdocs.test%20https%3a%2f%2fwww.googleapis.com%2fauth%2fdrive%20https%3a%2f%2fwww.googleapis.com%2fauth%2fdrive.photos.readonly%20https%3a%2f%2fwww.googleapis.com%2fauth%2fpeopleapi.readonly\n",
            "\n",
            "Enter your authorization code:\n",
            "··········\n",
            "Mounted at /gdrive\n",
            "/gdrive\n"
          ],
          "name": "stdout"
        }
      ]
    },
    {
      "cell_type": "code",
      "metadata": {
        "id": "010opAszBddF",
        "colab_type": "code",
        "outputId": "7bf04205-c781-4f40-9134-923a1ce62b35",
        "colab": {
          "base_uri": "https://localhost:8080/",
          "height": 52
        }
      },
      "source": [
        "%cd /content/drive/My Drive/Proyek_smart_city/3_Data"
      ],
      "execution_count": 0,
      "outputs": [
        {
          "output_type": "stream",
          "text": [
            "[Errno 107] Transport endpoint is not connected: '/content/drive/My Drive/Proyek_smart_city/3_Data'\n",
            "/gdrive\n"
          ],
          "name": "stdout"
        }
      ]
    },
    {
      "cell_type": "markdown",
      "metadata": {
        "id": "TC3YmhzEc33-",
        "colab_type": "text"
      },
      "source": [
        "Mendownload Data dari web https://www.google.com/covid19/mobility/"
      ]
    },
    {
      "cell_type": "code",
      "metadata": {
        "id": "FXW8fHR6c1b6",
        "colab_type": "code",
        "colab": {}
      },
      "source": [
        "from bs4 import BeautifulSoup\n",
        "import requests\n",
        "import re\n",
        "req = requests.get(\"http://sim.ciptakarya.pu.go.id/bppspam/detail_profile/55\")\n",
        "soup = BeautifulSoup(req.text, \"lxml\")\n",
        "pages =  soup.findAll('a', href=re.compile(r'(.zip)'))\n",
        "def download_file(url):\n",
        "    path = url.split('/')[-1].split('?')[0]\n",
        "    r = requests.get(url, stream=True)\n",
        "    if r.status_code == 200:\n",
        "        with open(path, 'wb') as f:\n",
        "            for chunk in r:\n",
        "                f.write(chunk)\n",
        "for page in pages:\n",
        "    url =  page.get('href')\n",
        "    req = requests.get(url)\n",
        "    download_file(url)"
      ],
      "execution_count": 0,
      "outputs": []
    },
    {
      "cell_type": "code",
      "metadata": {
        "id": "VEPt01aEDaRF",
        "colab_type": "code",
        "colab": {}
      },
      "source": [
        "from bs4 import BeautifulSoup\n",
        "import requests\n",
        "import re\n",
        "req = requests.get(\"http://www.djpk.kemenkeu.go.id/?p=5412\")\n",
        "soup = BeautifulSoup(req.text, \"lxml\")\n",
        "pages =  soup.findAll('a', href=re.compile(r'(.xlsx)'))\n",
        "def download_file(url):\n",
        "    path = url.split('/')[-1].split('?')[0]\n",
        "    r = requests.get(url, stream=True)\n",
        "    if r.status_code == 200:\n",
        "        with open(path, 'wb') as f:\n",
        "            for chunk in r:\n",
        "                f.write(chunk)\n",
        "for page in pages:\n",
        "    url =  page.get('href')\n",
        "    req = requests.get(url)\n",
        "    download_file(url)"
      ],
      "execution_count": 0,
      "outputs": []
    },
    {
      "cell_type": "code",
      "metadata": {
        "id": "EXM6JCm_dZAz",
        "colab_type": "code",
        "colab": {}
      },
      "source": [
        "from bs4 import BeautifulSoup\n",
        "import requests\n",
        "import re\n",
        "req = requests.get(\"https://malangkab.bps.go.id/publication.html\")\n",
        "soup = BeautifulSoup(req.text, \"lxml\")\n",
        "pages =  soup.findAll('a', href=re.compile(r'(.pdf)'))\n",
        "def download_file(url):\n",
        "    path = url.split('/')[-1].split('?')[0]\n",
        "    r = requests.get(url, stream=True)\n",
        "    if r.status_code == 200:\n",
        "        with open(path, 'wb') as f:\n",
        "            for chunk in r:\n",
        "                f.write(chunk)\n",
        "for page in pages:\n",
        "    url =  page.get('href')\n",
        "    req = requests.get(url)\n",
        "    download_file(url)"
      ],
      "execution_count": 0,
      "outputs": []
    },
    {
      "cell_type": "code",
      "metadata": {
        "id": "cAebj8Fxgnp9",
        "colab_type": "code",
        "outputId": "d55840a5-b1e7-4352-91a0-94e83ac4475e",
        "colab": {
          "base_uri": "https://localhost:8080/",
          "height": 416
        }
      },
      "source": [
        "!pip install selenium\n",
        "!apt-get update # to update ubuntu to correctly run apt install\n",
        "!apt install chromium-chromedriver\n",
        "!cp /usr/lib/chromium-browser/chromedriver /usr/bin\n",
        "import sys\n",
        "sys.path.insert(0,'/usr/lib/chromium-browser/chromedriver')\n",
        "from selenium import webdriver\n",
        "chrome_options = webdriver.ChromeOptions()\n",
        "chrome_options.add_argument('--headless')\n",
        "chrome_options.add_argument('--no-sandbox')\n",
        "chrome_options.add_argument('--disable-dev-shm-usage')\n",
        "driver = webdriver.Chrome('chromedriver',chrome_options=chrome_options)\n",
        "def scroll(driver, timeout):\n",
        "    scroll_pause_time = timeout\n",
        "\n",
        "    # Get scroll height\n",
        "    last_height = driver.execute_script(\"return document.body.scrollHeight\")\n",
        "\n",
        "    while True:\n",
        "        # Scroll down to bottom\n",
        "        driver.execute_script(\"window.scrollTo(0, document.body.scrollHeight);\")\n",
        "\n",
        "        # Calculate new scroll height and compare with last scroll height\n",
        "        new_height = driver.execute_script(\"return document.body.scrollHeight\")\n",
        "        if new_height == last_height:\n",
        "            # If heights are the same it will exit the function\n",
        "            break\n",
        "        last_height = new_height"
      ],
      "execution_count": 0,
      "outputs": [
        {
          "output_type": "stream",
          "text": [
            "Requirement already satisfied: selenium in /usr/local/lib/python3.6/dist-packages (3.141.0)\n",
            "Requirement already satisfied: urllib3 in /usr/local/lib/python3.6/dist-packages (from selenium) (1.24.3)\n",
            "Hit:1 https://cloud.r-project.org/bin/linux/ubuntu bionic-cran35/ InRelease\n",
            "Ign:2 https://developer.download.nvidia.com/compute/cuda/repos/ubuntu1804/x86_64  InRelease\n",
            "Ign:3 https://developer.download.nvidia.com/compute/machine-learning/repos/ubuntu1804/x86_64  InRelease\n",
            "Hit:4 https://developer.download.nvidia.com/compute/cuda/repos/ubuntu1804/x86_64  Release\n",
            "Hit:5 https://developer.download.nvidia.com/compute/machine-learning/repos/ubuntu1804/x86_64  Release\n",
            "Get:6 http://security.ubuntu.com/ubuntu bionic-security InRelease [88.7 kB]\n",
            "Hit:7 http://ppa.launchpad.net/graphics-drivers/ppa/ubuntu bionic InRelease\n",
            "Hit:9 http://archive.ubuntu.com/ubuntu bionic InRelease\n",
            "Hit:10 http://ppa.launchpad.net/marutter/c2d4u3.5/ubuntu bionic InRelease\n",
            "Hit:11 http://archive.ubuntu.com/ubuntu bionic-updates InRelease\n",
            "Hit:13 http://archive.ubuntu.com/ubuntu bionic-backports InRelease\n",
            "Fetched 88.7 kB in 2s (54.3 kB/s)\n",
            "Reading package lists... Done\n",
            "Reading package lists... Done\n",
            "Building dependency tree       \n",
            "Reading state information... Done\n",
            "chromium-chromedriver is already the newest version (80.0.3987.163-0ubuntu0.18.04.1).\n",
            "0 upgraded, 0 newly installed, 0 to remove and 62 not upgraded.\n",
            "cp: '/usr/lib/chromium-browser/chromedriver' and '/usr/bin/chromedriver' are the same file\n"
          ],
          "name": "stdout"
        },
        {
          "output_type": "stream",
          "text": [
            "/usr/local/lib/python3.6/dist-packages/ipykernel_launcher.py:12: DeprecationWarning: use options instead of chrome_options\n",
            "  if sys.path[0] == '':\n"
          ],
          "name": "stderr"
        }
      ]
    },
    {
      "cell_type": "code",
      "metadata": {
        "id": "XLsYA3aq2wQl",
        "colab_type": "code",
        "outputId": "bc15fce3-54c3-4232-cf16-0abdf0e49707",
        "colab": {
          "base_uri": "https://localhost:8080/",
          "height": 34
        }
      },
      "source": [
        "page = requests.get(\"https://www.bps.go.id/kategoriLink.html\")\n",
        "# Create a BeautifulSoup object\n",
        "soup = BeautifulSoup(page.text, 'html.parser')\n",
        "\n",
        "# get the repo list\n",
        "k = soup.findAll( target=\"__blank\")\n",
        "%cd /content/drive/My Drive/Proyek_smart_city/3_Data/BPS"
      ],
      "execution_count": 0,
      "outputs": [
        {
          "output_type": "stream",
          "text": [
            "/content/drive/My Drive/Proyek_smart_city/3_Data/BPS\n"
          ],
          "name": "stdout"
        }
      ]
    },
    {
      "cell_type": "code",
      "metadata": {
        "id": "WkgbagU7D-D3",
        "colab_type": "code",
        "colab": {}
      },
      "source": [
        "for page in k:\n",
        "    url =  page.get('href')\n",
        "    link=url+'publication.html'\n",
        "    req = requests.get(link)\n",
        "    print(link)\n",
        "    driver.get(link)\n",
        "    for a in driver.find_elements_by_xpath('//*[@id=\"download-publication\"]'):\n",
        "        href = a.get_attribute('href')\n",
        "        scroll(driver,5)\n",
        "        download = driver.get(href)\n",
        "        print(download)"
      ],
      "execution_count": 0,
      "outputs": []
    },
    {
      "cell_type": "code",
      "metadata": {
        "id": "mBckai2nG-au",
        "colab_type": "code",
        "outputId": "e312c3b8-edd5-427b-8890-cad6e9e5d401",
        "colab": {
          "base_uri": "https://localhost:8080/",
          "height": 34
        }
      },
      "source": [
        "link"
      ],
      "execution_count": 0,
      "outputs": [
        {
          "output_type": "execute_result",
          "data": {
            "text/plain": [
              "'http://aceh.bps.go.id/publication.html'"
            ]
          },
          "metadata": {
            "tags": []
          },
          "execution_count": 94
        }
      ]
    },
    {
      "cell_type": "code",
      "metadata": {
        "id": "Chra1cdxGnh3",
        "colab_type": "code",
        "outputId": "b5616e41-8e36-4571-a83f-9583049d54d8",
        "colab": {
          "base_uri": "https://localhost:8080/",
          "height": 34
        }
      },
      "source": [
        "%cd /content/sample_data"
      ],
      "execution_count": 0,
      "outputs": [
        {
          "output_type": "stream",
          "text": [
            "/content/sample_data\n"
          ],
          "name": "stdout"
        }
      ]
    },
    {
      "cell_type": "code",
      "metadata": {
        "id": "Ix6UYcIB8G8U",
        "colab_type": "code",
        "outputId": "48768541-4484-4518-fc75-5eaca9eac769",
        "colab": {
          "base_uri": "https://localhost:8080/",
          "height": 204
        }
      },
      "source": [
        "%cd /content/drive/My Drive/Proyek_smart_city/3_Data/BPS\n",
        "from time import sleep\n",
        "for a in driver.find_elements_by_xpath('//*[@id=\"download-publication\"]'):\n",
        "    href = a.get_attribute('href')\n",
        "    scroll(driver,5)\n",
        "    download = driver.get(href)\n",
        "    print(download)"
      ],
      "execution_count": 0,
      "outputs": [
        {
          "output_type": "stream",
          "text": [
            "/content/drive/My Drive/Proyek_smart_city/3_Data/BPS\n",
            "None\n",
            "None\n",
            "None\n",
            "None\n",
            "None\n",
            "None\n",
            "None\n",
            "None\n",
            "None\n",
            "None\n"
          ],
          "name": "stdout"
        }
      ]
    },
    {
      "cell_type": "code",
      "metadata": {
        "id": "YR3fGGs0MWet",
        "colab_type": "code",
        "colab": {}
      },
      "source": [
        "browser=driver\n",
        "html = browser.page_source\n",
        "browser.quit()\n",
        "soup = BeautifulSoup(html, 'html.parser')\n",
        "divs = soup.findAll('div', class_ = 'unit-content')"
      ],
      "execution_count": 0,
      "outputs": []
    },
    {
      "cell_type": "code",
      "metadata": {
        "id": "yez1iWNtzYQy",
        "colab_type": "code",
        "colab": {}
      },
      "source": [
        "for i, div in enumerate(divs):\n",
        "  title = div.find('div', class_ = 'sale-title').get_text().replace('\\n', '')\n",
        "  price = div.find('div', class_ = 'sale-price').get_text().replace('\\n', '')\n",
        "  discount = div.find('span', class_ = 'discount').get_text().replace('\\n', '')"
      ],
      "execution_count": 0,
      "outputs": []
    },
    {
      "cell_type": "code",
      "metadata": {
        "id": "Uy3Mmnvlz4us",
        "colab_type": "code",
        "outputId": "5ea90d51-5ab0-459a-bdf8-4fbcc2e3179c",
        "colab": {
          "base_uri": "https://localhost:8080/",
          "height": 34
        }
      },
      "source": [
        "title"
      ],
      "execution_count": 0,
      "outputs": [
        {
          "output_type": "execute_result",
          "data": {
            "text/plain": [
              "'Leivy Double Moisturising Body Lotion Goats Milk 500ml'"
            ]
          },
          "metadata": {
            "tags": []
          },
          "execution_count": 24
        }
      ]
    },
    {
      "cell_type": "code",
      "metadata": {
        "id": "sFBwYRCo9SyZ",
        "colab_type": "code",
        "colab": {}
      },
      "source": [
        "from bs4 import BeautifulSoup\n",
        "import requests\n",
        "import re\n",
        "req = requests.get(\"https://aceh.bps.go.id/publication.html\")\n",
        "soup = BeautifulSoup(req.text, \"lxml\")\n",
        "pages =  soup.findAll('a', href=re.compile(r'(.pdf)'))\n",
        "def download_file(url):\n",
        "    path = url.split('/')[-1].split('?')[0]\n",
        "    r = requests.get(url, stream=True)\n",
        "    if r.status_code == 200:\n",
        "        with open(path, 'wb') as f:\n",
        "            for chunk in r:\n",
        "                f.write(chunk)\n",
        "for page in pages:\n",
        "    url =  page.get('href')\n",
        "    req = requests.get(url)\n",
        "    download_file(url)"
      ],
      "execution_count": 0,
      "outputs": []
    },
    {
      "cell_type": "code",
      "metadata": {
        "id": "MAz-xyP4_Eq_",
        "colab_type": "code",
        "outputId": "cc8ce079-8f92-40b7-90c5-c2cad8d44063",
        "colab": {
          "base_uri": "https://localhost:8080/",
          "height": 34
        }
      },
      "source": [
        "%cd /content/sample_data"
      ],
      "execution_count": 0,
      "outputs": [
        {
          "output_type": "stream",
          "text": [
            "/content/sample_data\n"
          ],
          "name": "stdout"
        }
      ]
    },
    {
      "cell_type": "code",
      "metadata": {
        "id": "EB46dS-O_Bho",
        "colab_type": "code",
        "colab": {}
      },
      "source": [
        ""
      ],
      "execution_count": 0,
      "outputs": []
    }
  ]
}